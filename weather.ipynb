{
  "nbformat": 4,
  "nbformat_minor": 0,
  "metadata": {
    "colab": {
      "name": "weather.ipynb",
      "version": "0.3.2",
      "provenance": [],
      "collapsed_sections": [],
      "include_colab_link": true
    },
    "kernelspec": {
      "name": "python3",
      "display_name": "Python 3"
    }
  },
  "cells": [
    {
      "cell_type": "markdown",
      "metadata": {
        "id": "view-in-github",
        "colab_type": "text"
      },
      "source": [
        "<a href=\"https://colab.research.google.com/github/joy224961632/weather-project/blob/master/weather.ipynb\" target=\"_parent\"><img src=\"https://colab.research.google.com/assets/colab-badge.svg\" alt=\"Open In Colab\"/></a>"
      ]
    },
    {
      "metadata": {
        "id": "kFOwtXKCTQYP",
        "colab_type": "code",
        "colab": {}
      },
      "cell_type": "code",
      "source": [
        "import requests\n",
        "import bs4\n",
        "import json\n",
        "import jsonschema\n",
        "import time"
      ],
      "execution_count": 0,
      "outputs": []
    },
    {
      "metadata": {
        "id": "-rNNLAWNRAMH",
        "colab_type": "code",
        "colab": {
          "base_uri": "https://localhost:8080/",
          "height": 71
        },
        "outputId": "eec4b537-1e6e-4d29-ec64-f8af17e46a4d"
      },
      "cell_type": "code",
      "source": [
        "print('Loading files....')\n",
        "print(\"Please wait...\")\n",
        "\n",
        "\n",
        "\n",
        "time.sleep(5)\n",
        "print('Loading done.')"
      ],
      "execution_count": 8,
      "outputs": [
        {
          "output_type": "stream",
          "text": [
            "Loading files....\n",
            "Please wait...\n",
            "Loading done.\n"
          ],
          "name": "stdout"
        }
      ]
    },
    {
      "metadata": {
        "id": "pUUbr5_gRHVF",
        "colab_type": "code",
        "colab": {}
      },
      "cell_type": "code",
      "source": [
        ""
      ],
      "execution_count": 0,
      "outputs": []
    },
    {
      "metadata": {
        "id": "ZAJXrxhXTeOw",
        "colab_type": "code",
        "colab": {}
      },
      "cell_type": "code",
      "source": [
        ""
      ],
      "execution_count": 0,
      "outputs": []
    },
    {
      "metadata": {
        "colab_type": "code",
        "id": "G3oMDRv6TOO7",
        "colab": {}
      },
      "cell_type": "code",
      "source": [
        "#!/usr/bin/env python\n",
        "# coding: utf-8\n",
        "\n",
        "# In[1]:\n",
        "\n",
        "\n",
        "\n",
        "\n",
        "\n",
        "# In[2]:\n",
        "\n",
        "\n",
        "result = requests.get(\"https://bit.ly/2ARwEgU\")\n",
        "json_data = result.json()\n",
        "\n",
        "\n",
        "# In[3]:\n",
        "\n",
        "for i in range(0,1):\n",
        "  main = json_data['query']['results']['channel']\n",
        "  now_condition= main['item']['condition']\n",
        "  forecast_temp = main['item']['forecast'][i]\n",
        "\n",
        "\n",
        "# In[4]:\n",
        "\n",
        "\n",
        "  sunrise = main['astronomy']['sunrise']\n",
        "  sunset = main['astronomy']['sunset']\n",
        "\n",
        "\n",
        "# In[5]:\n",
        "\n",
        "\n",
        "  day_temp = forecast_temp['day']\n",
        "  now_temperture = now_condition['temp']\n",
        "  high_temp = forecast_temp['high']\n",
        "  low_temp = forecast_temp['low']\n",
        "  now_weather = now_condition['text']\n",
        "  country = main['location']['city']\n",
        "  humidity = main['atmosphere']['humidity']\n",
        "  weather_temp = forecast_temp['text']\n",
        "  date = main['item']['forecast'][i]['date']\n",
        "  \n",
        "  \n",
        "# In[6]:\n",
        "\n",
        "  year = date[-4]\n",
        "  year+=date[-3]\n",
        "  year +=date[-2]\n",
        "  year+=date[-1]\n",
        "\n",
        "  month = date[-8]\n",
        "  month += date[-7]\n",
        "  month += date[-6]\n",
        "  \n",
        "  day = date[0]\n",
        "  day += date[1]\n",
        "  \n",
        "  \n",
        "  \n",
        "# In[month dectect]:\n",
        "  \n",
        "  if(month == \"Jan\"):\n",
        "    month = \"一月\"\n",
        "  if(month == \"Feb\"):\n",
        "    month = \"二月\"\n",
        "  if(month == \"Mar\"):\n",
        "    month = \"三月\"\n",
        "  if(month == \"Apr\"):\n",
        "    month = \"四月\"\n",
        "  if(month == \"May\"):\n",
        "    month = \"五月\"\n",
        "  if(month == \"Jun\"):\n",
        "    month = \"六月\"\n",
        "  if(month == \"Jul\"):\n",
        "    month = \"七月\"\n",
        "  if(month == \"Aug\"):\n",
        "    month = \"八月\"\n",
        "  if(month == \"Sep\"):\n",
        "    month = \"九月\"\n",
        "  if(month == \"Oct\"):\n",
        "    month = \"十月\"\n",
        "  if(month == \"Nov\"):\n",
        "    month = \"十一月\"\n",
        "  if(month == \"Dec\"):\n",
        "    month = \"十二月\"\n",
        "  \n",
        "  \n",
        "  \n",
        "  \n",
        "\n",
        "  if(day_temp == 'Mon'):\n",
        "      day_temp = '一'\n",
        "  elif(day_temp == 'Tue'):\n",
        "      day_temp = '二'\n",
        "  elif(day_temp == 'Wed'):\n",
        "      day_temp = '三'\n",
        "  elif(day_temp == 'Thu'):\n",
        "      day_temp = '四'\n",
        "  elif(day_temp == 'Fri'):\n",
        "      day_temp = '五'\n",
        "  elif(day_temp == 'Sat'):\n",
        "      day_temp = '六'\n",
        "  elif(day_temp == 'Sun'):\n",
        "      day_temp = '日'\n",
        "\n",
        "\n",
        "# In[7]:\n",
        "\n",
        "\n",
        "  if (forecast_temp == \"Scattered Thunderstorms\"):\n",
        "      forecast_temp = \"各地區不穩定的雷陣雨\"\n",
        "  elif(forecast_temp == 'Thunderstorms'):\n",
        "     forecast_temp = '各地狀態為雷陣雨'\n",
        "\n",
        "\n",
        "# In[8]:\n",
        "\n",
        "\n",
        "  if(now_weather =='Partly Cloudy'):\n",
        "      now_weather = '各地狀態多雲'\n",
        "  elif(now_weather =='Clear'):\n",
        "    now_weather ='晴朗'\n",
        "\n",
        "# In[9]:\n",
        "\n",
        "\n",
        "  if(country == 'Taoyuan City'):\n",
        "      country = '桃園市'\n",
        "\n",
        "\n",
        "# In[10]:\n",
        "\n",
        "\n",
        "  if(weather_temp == 'Thunderstorms'):\n",
        "      weather_temp = '\\n各地午後雷陣雨\\n出門請記得帶把傘\\n'\n",
        "\n",
        "\n",
        "# In[ ]:\n",
        "\n",
        "\n",
        "\n",
        "\n",
        "\n",
        "# In[13]:\n",
        "\n",
        "\n",
        "  msg = \"\"\n",
        "  msg += '\\n{}年{}{}日\\n'.format(year,month,day)\n",
        "  msg += '今日:星期{}\\n'.format(day_temp)\n",
        "  msg += '預報都市:{}\\n'.format(country)\n",
        "  msg += '今日最高氣溫:{}\\n'.format(high_temp)\n",
        "  msg += '今日最低氣溫:{}\\n'.format(low_temp)\n",
        "  msg += '今日濕度:{}\\n'.format(humidity)\n",
        "  msg += '今日狀態:{}\\n'.format(now_weather)\n",
        "  msg += '今日天氣預報:{}\\n'.format(weather_temp)\n",
        "  msg += '現在氣溫:{}\\n'.format(now_temperture)\n",
        "  msg += 'By:joy'\n",
        "\n",
        "\n",
        "# In[ ]:\n",
        "\n",
        "\n",
        "\n",
        "\n",
        "\n",
        "# In[14]:\n",
        "\n",
        "\n",
        "\n",
        "# 只需要把 content 的內容改成你需要傳遞的訊息即可\n",
        "  content = msg\n",
        "\n",
        "# Line Notify\n",
        "  line_url = \"https://notify-api.line.me/api/notify\"\n",
        "  token = \"aKDsqbUj4Kgx29xDcoaPkLJd8CqvnUdHO8irbtsumCy\"\n",
        "  headers = {\n",
        "          \"Authorization\": \"Bearer \" + token, \n",
        "          \"Content-Type\" : \"application/x-www-form-urlencoded\"\n",
        "      }\n",
        "\n",
        "  payload = {'message': content}\n",
        "  r = requests.post(line_url, headers = headers, params = payload)\n",
        "\n",
        "\n",
        "# In[ ]:\n",
        "\n",
        "\n",
        "\n",
        "\n",
        "\n",
        "# In[ ]:\n",
        "\n",
        "\n",
        "\n",
        "\n",
        "\n"
      ],
      "execution_count": 0,
      "outputs": []
    },
    {
      "metadata": {
        "id": "Azakz9co7iE2",
        "colab_type": "code",
        "outputId": "2216a97d-ac0e-4fc6-990e-a9d9fff85947",
        "colab": {
          "base_uri": "https://localhost:8080/",
          "height": 35
        }
      },
      "cell_type": "code",
      "source": [
        "date"
      ],
      "execution_count": 10,
      "outputs": [
        {
          "output_type": "execute_result",
          "data": {
            "text/plain": [
              "'11 Nov 2018'"
            ]
          },
          "metadata": {
            "tags": []
          },
          "execution_count": 10
        }
      ]
    },
    {
      "metadata": {
        "id": "X4nq-18HvR2d",
        "colab_type": "code",
        "outputId": "782d2865-2d52-4864-bc89-54066ded7000",
        "colab": {
          "base_uri": "https://localhost:8080/",
          "height": 35
        }
      },
      "cell_type": "code",
      "source": [
        "day"
      ],
      "execution_count": 11,
      "outputs": [
        {
          "output_type": "execute_result",
          "data": {
            "text/plain": [
              "'11'"
            ]
          },
          "metadata": {
            "tags": []
          },
          "execution_count": 11
        }
      ]
    },
    {
      "metadata": {
        "id": "j9262y15vjfV",
        "colab_type": "code",
        "outputId": "2f119085-444f-4a53-80a4-edc301702db4",
        "colab": {
          "base_uri": "https://localhost:8080/",
          "height": 35
        }
      },
      "cell_type": "code",
      "source": [
        "year"
      ],
      "execution_count": 12,
      "outputs": [
        {
          "output_type": "execute_result",
          "data": {
            "text/plain": [
              "'2018'"
            ]
          },
          "metadata": {
            "tags": []
          },
          "execution_count": 12
        }
      ]
    },
    {
      "metadata": {
        "id": "Kt6US5aKwlNA",
        "colab_type": "code",
        "outputId": "f1a305b2-9206-471d-a301-74057d9cf6d4",
        "colab": {
          "base_uri": "https://localhost:8080/",
          "height": 35
        }
      },
      "cell_type": "code",
      "source": [
        "month"
      ],
      "execution_count": 13,
      "outputs": [
        {
          "output_type": "execute_result",
          "data": {
            "text/plain": [
              "'十一月'"
            ]
          },
          "metadata": {
            "tags": []
          },
          "execution_count": 13
        }
      ]
    },
    {
      "metadata": {
        "id": "gfkl5cGxxCCu",
        "colab_type": "code",
        "colab": {}
      },
      "cell_type": "code",
      "source": [
        ""
      ],
      "execution_count": 0,
      "outputs": []
    },
    {
      "metadata": {
        "id": "TLHIrUp94uWl",
        "colab_type": "code",
        "colab": {}
      },
      "cell_type": "code",
      "source": [
        ""
      ],
      "execution_count": 0,
      "outputs": []
    },
    {
      "metadata": {
        "id": "mP6IFaGz4yua",
        "colab_type": "code",
        "colab": {}
      },
      "cell_type": "code",
      "source": [
        ""
      ],
      "execution_count": 0,
      "outputs": []
    }
  ]
}