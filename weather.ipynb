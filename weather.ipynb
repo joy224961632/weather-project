{
  "nbformat": 4,
  "nbformat_minor": 0,
  "metadata": {
    "colab": {
      "name": "weather.ipynb",
      "version": "0.3.2",
      "provenance": [],
      "collapsed_sections": [],
      "include_colab_link": true
    },
    "kernelspec": {
      "name": "python3",
      "display_name": "Python 3"
    }
  },
  "cells": [
    {
      "cell_type": "markdown",
      "metadata": {
        "id": "view-in-github",
        "colab_type": "text"
      },
      "source": [
        "<a href=\"https://colab.research.google.com/github/joy224961632/weather-project/blob/master/weather.ipynb\" target=\"_parent\"><img src=\"https://colab.research.google.com/assets/colab-badge.svg\" alt=\"Open In Colab\"/></a>"
      ]
    },
    {
      "metadata": {
        "id": "kjY3VVvdcf9w",
        "colab_type": "code",
        "outputId": "b048051b-16b2-4f4f-e279-746e723aa9b5",
        "colab": {
          "base_uri": "https://localhost:8080/",
          "height": 150
        }
      },
      "cell_type": "code",
      "source": [
        "!pip install googletrans\n",
        "from googletrans import Translator\n",
        "translator = Translator(service_urls=[\n",
        "      'translate.google.com',\n",
        "      'translate.google.co.kr',\n",
        "    ])\n",
        "translator = Translator()\n"
      ],
      "execution_count": 17,
      "outputs": [
        {
          "output_type": "stream",
          "text": [
            "Requirement already satisfied: googletrans in /usr/local/lib/python3.6/dist-packages (2.3.0)\n",
            "Requirement already satisfied: requests in /usr/local/lib/python3.6/dist-packages (from googletrans) (2.18.4)\n",
            "Requirement already satisfied: idna<2.7,>=2.5 in /usr/local/lib/python3.6/dist-packages (from requests->googletrans) (2.6)\n",
            "Requirement already satisfied: chardet<3.1.0,>=3.0.2 in /usr/local/lib/python3.6/dist-packages (from requests->googletrans) (3.0.4)\n",
            "Requirement already satisfied: certifi>=2017.4.17 in /usr/local/lib/python3.6/dist-packages (from requests->googletrans) (2018.11.29)\n",
            "Requirement already satisfied: urllib3<1.23,>=1.21.1 in /usr/local/lib/python3.6/dist-packages (from requests->googletrans) (1.22)\n"
          ],
          "name": "stdout"
        }
      ]
    },
    {
      "metadata": {
        "id": "xEQ2QadiejOg",
        "colab_type": "text"
      },
      "cell_type": "markdown",
      "source": [
        ""
      ]
    },
    {
      "metadata": {
        "id": "kFOwtXKCTQYP",
        "colab_type": "code",
        "colab": {}
      },
      "cell_type": "code",
      "source": [
        "\n",
        "import requests\n",
        "import bs4\n",
        "import json\n",
        "import jsonschema\n",
        "import time"
      ],
      "execution_count": 0,
      "outputs": []
    },
    {
      "metadata": {
        "id": "-rNNLAWNRAMH",
        "colab_type": "code",
        "outputId": "730b448b-47e5-441c-8c4a-4cce4f8f228c",
        "colab": {
          "base_uri": "https://localhost:8080/",
          "height": 68
        }
      },
      "cell_type": "code",
      "source": [
        "print('Loading files....')\n",
        "print(\"Please wait...\")\n",
        "\n",
        "\n",
        "\n",
        "time.sleep(5)\n",
        "print('Loading done.')"
      ],
      "execution_count": 3,
      "outputs": [
        {
          "output_type": "stream",
          "text": [
            "Loading files....\n",
            "Please wait...\n",
            "Loading done.\n"
          ],
          "name": "stdout"
        }
      ]
    },
    {
      "metadata": {
        "id": "pUUbr5_gRHVF",
        "colab_type": "code",
        "colab": {}
      },
      "cell_type": "code",
      "source": [
        ""
      ],
      "execution_count": 0,
      "outputs": []
    },
    {
      "metadata": {
        "id": "ZAJXrxhXTeOw",
        "colab_type": "code",
        "colab": {}
      },
      "cell_type": "code",
      "source": [
        ""
      ],
      "execution_count": 0,
      "outputs": []
    },
    {
      "metadata": {
        "colab_type": "code",
        "id": "G3oMDRv6TOO7",
        "colab": {}
      },
      "cell_type": "code",
      "source": [
        "#!/usr/bin/env python\n",
        "# coding: utf-8\n",
        "\n",
        "# In[1]:\n",
        "\n",
        "\n",
        "\n",
        "\n",
        "\n",
        "# In[2]:\n",
        "\n",
        "\n",
        "result = requests.get(\"https://bit.ly/2ARwEgU\")\n",
        "json_data = result.json()\n",
        "\n",
        "\n",
        "# In[3]:\n",
        "\n",
        "for i in range(0,1):\n",
        "  main = json_data['query']['results']['channel']\n",
        "  now_condition= main['item']['condition']\n",
        "  forecast_temp = main['item']['forecast'][i]\n",
        "\n",
        "\n",
        "# In[4]:\n",
        "\n",
        "\n",
        "  sunrise = main['astronomy']['sunrise']\n",
        "  sunset = main['astronomy']['sunset']\n",
        "\n",
        "\n",
        "# In[5]:\n",
        "\n",
        "\n",
        "  day_temp = forecast_temp['day']\n",
        "  now_temperture = now_condition['temp']\n",
        "  high_temp = forecast_temp['high']\n",
        "  low_temp = forecast_temp['low']\n",
        "  now_weather = now_condition['text']\n",
        "  country = main['location']['city']\n",
        "  humidity = main['atmosphere']['humidity']\n",
        "  weather_temp = forecast_temp['text']\n",
        "  date = main['item']['forecast'][i]['date']\n",
        "  \n",
        "  \n",
        "# In[6]:\n",
        "\n",
        "  year = date[-4]\n",
        "  year+=date[-3]\n",
        "  year +=date[-2]\n",
        "  year+=date[-1]\n",
        "\n",
        "  month = date[-8]\n",
        "  month += date[-7]\n",
        "  month += date[-6]\n",
        "  \n",
        "  day = date[0]\n",
        "  day += date[1]\n",
        "  \n",
        "  \n",
        "  \n",
        "# In[month dectect]:\n",
        "  \n",
        "  if(month == \"Jan\"):\n",
        "    month = \"一月\"\n",
        "  if(month == \"Feb\"):\n",
        "    month = \"二月\"\n",
        "  if(month == \"Mar\"):\n",
        "    month = \"三月\"\n",
        "  if(month == \"Apr\"):\n",
        "    month = \"四月\"\n",
        "  if(month == \"May\"):\n",
        "    month = \"五月\"\n",
        "  if(month == \"Jun\"):\n",
        "    month = \"六月\"\n",
        "  if(month == \"Jul\"):\n",
        "    month = \"七月\"\n",
        "  if(month == \"Aug\"):\n",
        "    month = \"八月\"\n",
        "  if(month == \"Sep\"):\n",
        "    month = \"九月\"\n",
        "  if(month == \"Oct\"):\n",
        "    month = \"十月\"\n",
        "  if(month == \"Nov\"):\n",
        "    month = \"十一月\"\n",
        "  if(month == \"Dec\"):\n",
        "    month = \"十二月\"\n",
        "  \n",
        "  \n",
        "  \n",
        "  \n",
        "\n",
        "  if(day_temp == 'Mon'):\n",
        "      day_temp = '一'\n",
        "  elif(day_temp == 'Tue'):\n",
        "      day_temp = '二'\n",
        "  elif(day_temp == 'Wed'):\n",
        "      day_temp = '三'\n",
        "  elif(day_temp == 'Thu'):\n",
        "      day_temp = '四'\n",
        "  elif(day_temp == 'Fri'):\n",
        "      day_temp = '五'\n",
        "  elif(day_temp == 'Sat'):\n",
        "      day_temp = '六'\n",
        "  elif(day_temp == 'Sun'):\n",
        "      day_temp = '日'\n",
        "\n",
        "\n",
        "# In[7]:\n",
        "\n",
        "\n",
        "  if (forecast_temp == \"Scattered Thunderstorms\"):\n",
        "      forecast_temp = \"各地區不穩定的雷陣雨\"\n",
        "  elif(forecast_temp == 'Thunderstorms'):\n",
        "      forecast_temp = '各地狀態為雷陣雨'\n",
        "  elif(forecast_temp == 'Mostly Cloudy'):\n",
        "      forecast_temp = '各地狀態多雲'\n",
        "\n",
        "# In[8]:\n",
        "\n",
        "\n",
        "  if(now_weather =='Partly Cloudy'):\n",
        "      now_weather = '各地狀態多雲'\n",
        "  elif(now_weather =='Clear'):\n",
        "    now_weather ='晴朗'\n",
        "  elif(now_weather == 'Mostly Cloudy'):\n",
        "      now_weather = '各地狀態多雲'\n",
        "  elif now_weather == \"Breezy\":\n",
        "    now_weather = \"涼爽\"\n",
        "\n",
        "# In[9]:\n",
        "\n",
        "\n",
        "  if(country == 'Taoyuan City'):\n",
        "      country = '桃園市'\n",
        "\n",
        "\n",
        "# In[10]:\n",
        "\n",
        "\n",
        "  if(weather_temp == 'Thunderstorms'):\n",
        "      weather_temp = '\\n各地午後雷陣雨\\n出門請記得帶把傘\\n'\n",
        "  elif(weather_temp == 'Mostly Cloudy'):\n",
        "      weather_temp = '\\n各地多雲'\n",
        "  elif weather_temp == \"Sunny\":\n",
        "    weather_temp = \"晴天\"\n",
        "\n",
        "# In[ ]:\n",
        "\n",
        "\n",
        "\n",
        "\n",
        "\n",
        "# In[13]:\n",
        "\n",
        "\n",
        "  msg = \"\"\n",
        "  msg += '\\n{}年{}{}日\\n'.format(year,month,day)\n",
        "  msg += '今日:星期{}\\n'.format(day_temp)\n",
        "  msg += '預報都市:{}\\n'.format(country)\n",
        "  msg += '今日最高氣溫:{}\\n'.format(high_temp)\n",
        "  msg += '今日最低氣溫:{}\\n'.format(low_temp)\n",
        "  msg += '今日濕度:{}\\n'.format(humidity)\n",
        "  msg += '今日狀態:{}\\n'.format(now_weather)\n",
        "  msg += '今日天氣預報:{}\\n'.format(weather_temp)\n",
        "  msg += '現在氣溫:{}\\n'.format(now_temperture)\n",
        "  msg += 'By:joy'\n",
        "\n",
        "\n",
        "# In[ ]:\n",
        "\n",
        "\n",
        "\n",
        "\n",
        "\n",
        "# In[14]:\n",
        "\n",
        "\n",
        "\n",
        "# 只需要把 content 的內容改成你需要傳遞的訊息即可\n",
        "  content = msg\n",
        "\n",
        "# Line Notify\n",
        "  line_url = \"https://notify-api.line.me/api/notify\"\n",
        "  token = \"aKDsqbUj4Kgx29xDcoaPkLJd8CqvnUdHO8irbtsumCy\"\n",
        "  headers = {\n",
        "          \"Authorization\": \"Bearer \" + token, \n",
        "          \"Content-Type\" : \"application/x-www-form-urlencoded\"\n",
        "      }\n",
        "\n",
        "  payload = {'message': content}\n",
        "  r = requests.post(line_url, headers = headers, params = payload)\n",
        "\n",
        "\n",
        "# In[ ]:\n",
        "\n",
        "\n",
        "\n",
        "\n",
        "\n",
        "# In[ ]:\n",
        "\n",
        "\n",
        "\n",
        "\n",
        "\n"
      ],
      "execution_count": 0,
      "outputs": []
    },
    {
      "metadata": {
        "id": "Azakz9co7iE2",
        "colab_type": "code",
        "outputId": "7bc0f7bc-7ba9-4ee6-dce2-89dad9e17161",
        "colab": {
          "base_uri": "https://localhost:8080/",
          "height": 204
        }
      },
      "cell_type": "code",
      "source": [
        "print(msg)"
      ],
      "execution_count": 37,
      "outputs": [
        {
          "output_type": "stream",
          "text": [
            "\n",
            "2018年十二月18日\n",
            "今日:星期二\n",
            "預報都市:桃園市\n",
            "今日最高氣溫:21\n",
            "今日最低氣溫:11\n",
            "今日濕度:46\n",
            "今日狀態:涼爽\n",
            "今日天氣預報:晴天\n",
            "現在氣溫:20\n",
            "By:joy\n"
          ],
          "name": "stdout"
        }
      ]
    },
    {
      "metadata": {
        "id": "X4nq-18HvR2d",
        "colab_type": "code",
        "colab": {}
      },
      "cell_type": "code",
      "source": [
        ""
      ],
      "execution_count": 0,
      "outputs": []
    },
    {
      "metadata": {
        "id": "j9262y15vjfV",
        "colab_type": "code",
        "colab": {}
      },
      "cell_type": "code",
      "source": [
        ""
      ],
      "execution_count": 0,
      "outputs": []
    },
    {
      "metadata": {
        "id": "Kt6US5aKwlNA",
        "colab_type": "code",
        "colab": {}
      },
      "cell_type": "code",
      "source": [
        ""
      ],
      "execution_count": 0,
      "outputs": []
    },
    {
      "metadata": {
        "id": "gfkl5cGxxCCu",
        "colab_type": "code",
        "colab": {}
      },
      "cell_type": "code",
      "source": [
        "\n",
        "msg = \"\"\n",
        "msg += '\\n{}年{}{}日\\n'.format(year,month,day)\n",
        "msg += '今日:星期{}\\n'.format(day_temp)\n",
        "msg += '預報都市:{}\\n'.format(country)\n",
        "msg += '今日最高氣溫:{}\\n'.format(high_temp)\n",
        "msg += '今日最低氣溫:{}\\n'.format(low_temp)\n",
        "msg += '今日濕度:{}\\n'.format(humidity)\n",
        "msg += '今日狀態:{}\\n'.format(now_weather)\n",
        "msg += '今日天氣預報:{}\\n'.format(weather_temp)\n",
        "msg += '現在氣溫:{}\\n'.format(now_temperture)\n",
        "msg += 'By:joy'\n"
      ],
      "execution_count": 0,
      "outputs": []
    },
    {
      "metadata": {
        "id": "TLHIrUp94uWl",
        "colab_type": "code",
        "outputId": "5b4555f1-a4d5-4bb5-efd3-35b500ccc36b",
        "colab": {
          "base_uri": "https://localhost:8080/",
          "height": 204
        }
      },
      "cell_type": "code",
      "source": [
        ""
      ],
      "execution_count": 0,
      "outputs": [
        {
          "output_type": "stream",
          "text": [
            "\n",
            "2018年十二月09日\n",
            "今日:星期日\n",
            "預報都市:桃園市\n",
            "今日最高氣溫:19\n",
            "今日最低氣溫:16\n",
            "今日濕度:98\n",
            "今日狀態:Scattered Showers\n",
            "今日天氣預報:Scattered Showers\n",
            "現在氣溫:16\n",
            "By:joy\n"
          ],
          "name": "stdout"
        }
      ]
    },
    {
      "metadata": {
        "id": "mP6IFaGz4yua",
        "colab_type": "code",
        "colab": {}
      },
      "cell_type": "code",
      "source": [
        "\n"
      ],
      "execution_count": 0,
      "outputs": []
    }
  ]
}